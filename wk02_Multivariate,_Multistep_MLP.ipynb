{
  "nbformat": 4,
  "nbformat_minor": 0,
  "metadata": {
    "colab": {
      "provenance": []
    },
    "kernelspec": {
      "name": "python3",
      "display_name": "Python 3"
    },
    "language_info": {
      "name": "python"
    }
  },
  "cells": [
    {
      "cell_type": "markdown",
      "source": [
        "# Multi-Step timeseries forecasting\n",
        "\n",
        "여러 time-step의 결과(미래)를 예측해봅시다.\n",
        "우선 간단한 예시 데이터셋을 생성하겠습니다."
      ],
      "metadata": {
        "id": "x6gzTN1_get0"
      }
    },
    {
      "cell_type": "code",
      "source": [
        "import numpy as np"
      ],
      "metadata": {
        "id": "-tS48xlXbhXU"
      },
      "execution_count": null,
      "outputs": []
    },
    {
      "cell_type": "code",
      "source": [
        "data1 = [10,20,30,40,50,60,70,80,90,100,110,120,130,140,150]\n",
        "data1"
      ],
      "metadata": {
        "colab": {
          "base_uri": "https://localhost:8080/"
        },
        "id": "IOVYOeT9gNWg",
        "outputId": "539074d3-e8ad-433e-c1ee-aadcad972204"
      },
      "execution_count": null,
      "outputs": [
        {
          "output_type": "execute_result",
          "data": {
            "text/plain": [
              "[10, 20, 30, 40, 50, 60, 70, 80, 90, 100, 110, 120, 130, 140, 150]"
            ]
          },
          "metadata": {},
          "execution_count": 303
        }
      ]
    },
    {
      "cell_type": "markdown",
      "source": [
        "3일 동안의 과거 값을 가지고 2일 동안의 미래 값을 예측해보겠습니다.\n",
        "\n",
        "위의 데이터셋을 이용해 예시를 들자면, [10,20,30]을 가지고 [40,50]을 예측할 수 있게끔 문제를 정의해보겠습니다. "
      ],
      "metadata": {
        "id": "NjcUH_2EgdfV"
      }
    },
    {
      "cell_type": "code",
      "source": [
        "# split a univariate sequence into samples\n",
        "def multi_step_split(sequence, n_evidence, n_future):\n",
        "\tevi, fut = list(), list()\n",
        "\tfor i in range(len(sequence)):\n",
        "\t\t# find the end of this pattern\n",
        "\t\tend_ix = i + n_evidence\n",
        "\t\tout_end_ix = end_ix + n_future\n",
        "\t\t# check if we are beyond the sequence\n",
        "\t\tif out_end_ix > len(sequence):\n",
        "\t\t\tbreak\n",
        "\t\t# gather input and output parts of the pattern\n",
        "\t\tseq_evi, seq_fut = sequence[i:end_ix], sequence[end_ix:out_end_ix]\n",
        "\t\tevi.append(seq_evi)\n",
        "\t\tfut.append(seq_fut)\n",
        "\treturn np.array(evi), np.array(fut)"
      ],
      "metadata": {
        "id": "AiQyBOzlhOMf"
      },
      "execution_count": null,
      "outputs": []
    },
    {
      "cell_type": "code",
      "source": [
        "X,y = multi_step_split(data1,3,2)\n",
        "\n",
        "for i in range(len(X)):\n",
        "  print(X[i],y[i])"
      ],
      "metadata": {
        "colab": {
          "base_uri": "https://localhost:8080/"
        },
        "id": "jrsPcJYlh9nn",
        "outputId": "7ddd6c02-c345-49aa-e72f-626154d610fd"
      },
      "execution_count": null,
      "outputs": [
        {
          "output_type": "stream",
          "name": "stdout",
          "text": [
            "[10 20 30] [40 50]\n",
            "[20 30 40] [50 60]\n",
            "[30 40 50] [60 70]\n",
            "[40 50 60] [70 80]\n",
            "[50 60 70] [80 90]\n",
            "[60 70 80] [ 90 100]\n",
            "[70 80 90] [100 110]\n",
            "[ 80  90 100] [110 120]\n",
            "[ 90 100 110] [120 130]\n",
            "[100 110 120] [130 140]\n",
            "[110 120 130] [140 150]\n"
          ]
        }
      ]
    },
    {
      "cell_type": "code",
      "source": [
        "import torch\n",
        "import torch.nn as nn\n",
        "import torch.optim as optim\n",
        "import torch.nn.functional as F\n",
        "from torch.utils.data import DataLoader, Dataset\n",
        "\n",
        "from sklearn.model_selection import train_test_split"
      ],
      "metadata": {
        "id": "NWuHhsOhcpfe"
      },
      "execution_count": null,
      "outputs": []
    },
    {
      "cell_type": "code",
      "source": [
        "# torch의 Dataset 을 상속.\n",
        "class TensorData(Dataset):\n",
        "\n",
        "    def __init__(self, x_data, y_data):\n",
        "        self.x_data = torch.FloatTensor(x_data)\n",
        "        self.y_data = torch.FloatTensor(y_data)\n",
        "        self.len = self.y_data.shape[0]\n",
        "\n",
        "    def __getitem__(self, index):\n",
        "\n",
        "        return self.x_data[index], self.y_data[index] \n",
        "\n",
        "    def __len__(self):\n",
        "        return self.len"
      ],
      "metadata": {
        "id": "RRq7gP1gfEVV"
      },
      "execution_count": null,
      "outputs": []
    },
    {
      "cell_type": "code",
      "source": [
        "x_train, x_test, y_train, y_test = train_test_split(X, y, test_size=0.2)\n",
        "\n",
        "n_batch = 1\n",
        "\n",
        "trainsets = TensorData(x_train, y_train)\n",
        "trainloader = DataLoader(trainsets, batch_size=n_batch, shuffle=True)\n",
        "\n",
        "testsets = TensorData(x_test, y_test)\n",
        "testloader = torch.utils.data.DataLoader(testsets, batch_size=n_batch, shuffle=False)\n",
        "\n",
        "inferencesets = TensorData(X,y)\n",
        "inferenceloader = torch.utils.data.DataLoader(inferencesets, batch_size=n_batch, shuffle=False)"
      ],
      "metadata": {
        "id": "OiO_siQdjhtj"
      },
      "execution_count": null,
      "outputs": []
    },
    {
      "cell_type": "code",
      "source": [
        "class MLP(nn.Module):\n",
        "    def __init__(self,n_input=0, n_output=0):\n",
        "    \n",
        "        super().__init__()\n",
        "        self.n_input = n_input\n",
        "        self.n_output = n_output\n",
        "        self.layer1 = nn.Linear(in_features = n_input, out_features = 100)\n",
        "        self.layer2 = nn.Linear(in_features = 100, out_features = n_output)\n",
        "        \n",
        "    def forward(self, x):\n",
        "    \n",
        "        x = self.layer1(x)\n",
        "        x = F.relu(x)\n",
        "        x = self.layer2(x)\n",
        "        \n",
        "        return x"
      ],
      "metadata": {
        "id": "4BFuUJ9MctNm"
      },
      "execution_count": null,
      "outputs": []
    },
    {
      "cell_type": "code",
      "source": [
        "model = MLP(3,2)\n",
        "criterion = nn.MSELoss()\n",
        "optimizer = optim.Adam(model.parameters(), lr=0.001, weight_decay=1e-7)"
      ],
      "metadata": {
        "id": "IS40Ec49tkdV"
      },
      "execution_count": null,
      "outputs": []
    },
    {
      "cell_type": "code",
      "source": [
        "loss_ = [] # loss를 저장할 리스트.\n",
        "n = len(trainloader)\n",
        "\n",
        "for epoch in range(400):\n",
        "\n",
        "  running_loss = 0.0 # 한 에폭이 돌 때 그안에서 배치마다 loss가 나온다. 즉 한번 학습할 때 그렇게 쪼개지면서 loss가 다 나오니 MSE를 구하기 위해서 사용한다.\n",
        "\n",
        "  for _,(inputs,values) in enumerate(trainloader):\n",
        "    \n",
        "    optimizer.zero_grad() # 최적화 초기화.\n",
        "\n",
        "    outputs = model(inputs) # 모델에 입력값을 넣어 예측값을 산출한다.\n",
        "    loss = criterion(outputs, values) # 손실함수를 계산. error 계산.\n",
        "    loss.backward() # 손실 함수를 기준으로 역전파를 설정한다.\n",
        "    optimizer.step() # 역전파를 진행하고 가중치를 업데이트한다.\n",
        "\n",
        "    running_loss += loss.item() # epoch 마다 평균 loss를 계산하기 위해 배치 loss를 더한다.\n",
        "  \n",
        "  loss_.append(running_loss/n) # MSE(Mean Squared Error) 계산"
      ],
      "metadata": {
        "id": "yBx-tvg3fBJV"
      },
      "execution_count": null,
      "outputs": []
    },
    {
      "cell_type": "code",
      "source": [
        "import matplotlib.pyplot as plt\n",
        "\n",
        "plt.plot(loss_)\n",
        "plt.title('Loss')\n",
        "plt.xlabel('epoch')\n",
        "plt.show()"
      ],
      "metadata": {
        "colab": {
          "base_uri": "https://localhost:8080/",
          "height": 295
        },
        "id": "8vlnMIppkDUu",
        "outputId": "2e3ead84-7416-459d-c121-c782c33fbaf1"
      },
      "execution_count": null,
      "outputs": [
        {
          "output_type": "display_data",
          "data": {
            "text/plain": [
              "<Figure size 432x288 with 1 Axes>"
            ],
            "image/png": "[encoded data removed]"
          },
          "metadata": {
            "needs_background": "light"
          }
        }
      ]
    },
    {
      "cell_type": "code",
      "source": [
        "x_predict = []\n",
        "y_label = []\n",
        "for _,(inputs,values) in enumerate(inferenceloader): # 무작위로 섞인 n_batch개의 데이터가 담긴 배치가 하나씩 들어온다.\n",
        "  \n",
        "    inputs = inputs[0,:]\n",
        "    values = values[0,:]\n",
        "    outputs = model(inputs) # 모델에 입력값을 넣어 예측값을 산출한다.\n",
        "\n",
        "    x_predict.append([t.item() for t in outputs])\n",
        "    y_label.append([t.item() for t in values])"
      ],
      "metadata": {
        "id": "_9xdcys3luPL"
      },
      "execution_count": null,
      "outputs": []
    },
    {
      "cell_type": "code",
      "source": [
        "plt.plot(np.array(x_predict).reshape(-1))\n",
        "plt.plot(np.array(y_label).reshape(-1))\n",
        "plt.xlabel('Time')\n",
        "plt.ylabel('Value')\n",
        "plt.title('Multi-Step MLP timeseries-forecasting')\n",
        "plt.legend(['Predict_value', 'Real_value'])"
      ],
      "metadata": {
        "colab": {
          "base_uri": "https://localhost:8080/",
          "height": 313
        },
        "id": "-7BKAhw1l5wJ",
        "outputId": "80b1bd5b-e3f6-4455-ff54-1d4d28c4dc67"
      },
      "execution_count": null,
      "outputs": [
        {
          "output_type": "execute_result",
          "data": {
            "text/plain": [
              "<matplotlib.legend.Legend at 0x7fa2ac669190>"
            ]
          },
          "metadata": {},
          "execution_count": 314
        },
        {
          "output_type": "display_data",
          "data": {
            "text/plain": [
              "<Figure size 432x288 with 1 Axes>"
            ],
            "image/png": "[encoded data removed]"
          },
          "metadata": {
            "needs_background": "light"
          }
        }
      ]
    },
    {
      "cell_type": "markdown",
      "source": [
        "# Multi-Variate timeseries forecasting\n",
        "\n",
        "마찬가지로 간단한 데이터셋을 생성해 문제를 정의하겠습니다.\n",
        "3일 동안의 기온, 강수량 값을 가지고 다음날의 해수면 값을 예측해보겠습니다.\n",
        "\n",
        "아래의 데이터셋을 이용해 예시를 들면, [50,30,20]과 [25,90,40]을 가지고 30을 예측해보겠습니다."
      ],
      "metadata": {
        "id": "ZB_-LXRFnxBR"
      }
    },
    {
      "cell_type": "code",
      "source": [
        "data1 = np.array([50,30,20,90,40,35,24,16,100,25])\n",
        "data2 = np.array([25,90,40,20,30,53,99,42,23,191])\n",
        "data3 = np.array([155,20,50,30,161,42,35,42,193,92])\n",
        "\n",
        "dataset = np.vstack((data1,data2,data3)).T\n",
        "dataset"
      ],
      "metadata": {
        "colab": {
          "base_uri": "https://localhost:8080/"
        },
        "id": "WZcIGhT5oglR",
        "outputId": "17c23dda-eca0-4681-cc6a-550fb2113336"
      },
      "execution_count": null,
      "outputs": [
        {
          "output_type": "execute_result",
          "data": {
            "text/plain": [
              "array([[ 50,  25, 155],\n",
              "       [ 30,  90,  20],\n",
              "       [ 20,  40,  50],\n",
              "       [ 90,  20,  30],\n",
              "       [ 40,  30, 161],\n",
              "       [ 35,  53,  42],\n",
              "       [ 24,  99,  35],\n",
              "       [ 16,  42,  42],\n",
              "       [100,  23, 193],\n",
              "       [ 25, 191,  92]])"
            ]
          },
          "metadata": {},
          "execution_count": 315
        }
      ]
    },
    {
      "cell_type": "code",
      "source": [
        "# split a multivariate sequence into samples\n",
        "def multi_variate_split(sequences, n_steps):\n",
        "\tevi, fut = list(), list()\n",
        "\tfor i in range(len(sequences)):\n",
        "\t\t# find the end of this pattern\n",
        "\t\tend_ix = i + n_steps\n",
        "\t\t# check if we are beyond the dataset\n",
        "\t\tif end_ix > len(sequences):\n",
        "\t\t\tbreak\n",
        "\t\t# gather input and output parts of the pattern\n",
        "\t\tseq_evi, seq_fut = sequences[i:end_ix, :-1], sequences[end_ix-1, -1]\n",
        "\t\tevi.append(seq_evi)\n",
        "\t\tfut.append(seq_fut)\n",
        "\treturn np.array(evi), np.array(fut)"
      ],
      "metadata": {
        "id": "o7GNgnjzo6HA"
      },
      "execution_count": null,
      "outputs": []
    },
    {
      "cell_type": "code",
      "source": [
        "X,y = multi_variate_split(dataset,3)\n",
        "\n",
        "for i in range(len(X)):\n",
        "  print(X[i],y[i])"
      ],
      "metadata": {
        "colab": {
          "base_uri": "https://localhost:8080/"
        },
        "id": "Y_ykl0SbpWS-",
        "outputId": "19c029e1-dc73-4b78-eb4b-168b1c636c5e"
      },
      "execution_count": null,
      "outputs": [
        {
          "output_type": "stream",
          "name": "stdout",
          "text": [
            "[[50 25]\n",
            " [30 90]\n",
            " [20 40]] 50\n",
            "[[30 90]\n",
            " [20 40]\n",
            " [90 20]] 30\n",
            "[[20 40]\n",
            " [90 20]\n",
            " [40 30]] 161\n",
            "[[90 20]\n",
            " [40 30]\n",
            " [35 53]] 42\n",
            "[[40 30]\n",
            " [35 53]\n",
            " [24 99]] 35\n",
            "[[35 53]\n",
            " [24 99]\n",
            " [16 42]] 42\n",
            "[[ 24  99]\n",
            " [ 16  42]\n",
            " [100  23]] 193\n",
            "[[ 16  42]\n",
            " [100  23]\n",
            " [ 25 191]] 92\n"
          ]
        }
      ]
    },
    {
      "cell_type": "code",
      "source": [
        "n_input = X.shape[1] * X.shape[2]\n",
        "X = X.reshape((X.shape[0], n_input))"
      ],
      "metadata": {
        "id": "5mCLi-JStZKA"
      },
      "execution_count": null,
      "outputs": []
    },
    {
      "cell_type": "code",
      "source": [
        "x_train, x_test, y_train, y_test = train_test_split(X, y, test_size=0.2)\n",
        "\n",
        "n_batch = 1\n",
        "\n",
        "trainsets = TensorData(x_train, y_train)\n",
        "trainloader = DataLoader(trainsets, batch_size=n_batch, shuffle=True)\n",
        "\n",
        "testsets = TensorData(x_test, y_test)\n",
        "testloader = torch.utils.data.DataLoader(testsets, batch_size=n_batch, shuffle=False)\n",
        "\n",
        "\n",
        "inferencesets = TensorData(X,y)\n",
        "inferenceloader = torch.utils.data.DataLoader(inferencesets, batch_size=n_batch, shuffle=False)"
      ],
      "metadata": {
        "id": "EHBY6z3Ns7Z9"
      },
      "execution_count": null,
      "outputs": []
    },
    {
      "cell_type": "code",
      "source": [
        "model = MLP(6,1)\n",
        "criterion = nn.MSELoss()\n",
        "optimizer = optim.Adam(model.parameters(), lr=0.001, weight_decay=1e-7)"
      ],
      "metadata": {
        "id": "Xr359-oVtoAS"
      },
      "execution_count": null,
      "outputs": []
    },
    {
      "cell_type": "code",
      "source": [
        "loss_ = [] # loss를 저장할 리스트.\n",
        "n = len(trainloader)\n",
        "\n",
        "for epoch in range(400):\n",
        "\n",
        "  running_loss = 0.0 # 한 에폭이 돌 때 그안에서 배치마다 loss가 나온다. 즉 한번 학습할 때 그렇게 쪼개지면서 loss가 다 나오니 MSE를 구하기 위해서 사용한다.\n",
        "\n",
        "  for _,(inputs,values) in enumerate(trainloader):\n",
        "    \n",
        "    optimizer.zero_grad() # 최적화 초기화.\n",
        "\n",
        "    outputs = model(inputs) # 모델에 입력값을 넣어 예측값을 산출한다.\n",
        "    loss = criterion(outputs, values) # 손실함수를 계산. error 계산.\n",
        "    loss.backward() # 손실 함수를 기준으로 역전파를 설정한다.\n",
        "    optimizer.step() # 역전파를 진행하고 가중치를 업데이트한다.\n",
        "\n",
        "    running_loss += loss.item() # epoch 마다 평균 loss를 계산하기 위해 배치 loss를 더한다.\n",
        "  \n",
        "  loss_.append(running_loss/n) # MSE(Mean Squared Error) 계산"
      ],
      "metadata": {
        "colab": {
          "base_uri": "https://localhost:8080/"
        },
        "id": "t1BUDJmZspgL",
        "outputId": "95fa4484-ab21-450f-80cd-98e1adeb5376"
      },
      "execution_count": null,
      "outputs": [
        {
          "output_type": "stream",
          "name": "stderr",
          "text": [
            "/usr/local/lib/python3.7/dist-packages/torch/nn/modules/loss.py:530: UserWarning: Using a target size (torch.Size([1])) that is different to the input size (torch.Size([1, 1])). This will likely lead to incorrect results due to broadcasting. Please ensure they have the same size.\n",
            "  return F.mse_loss(input, target, reduction=self.reduction)\n"
          ]
        }
      ]
    },
    {
      "cell_type": "code",
      "source": [
        "import matplotlib.pyplot as plt\n",
        "\n",
        "plt.plot(loss_)\n",
        "plt.title('Loss')\n",
        "plt.xlabel('epoch')\n",
        "plt.show()"
      ],
      "metadata": {
        "colab": {
          "base_uri": "https://localhost:8080/",
          "height": 295
        },
        "id": "L8blJCTysrQU",
        "outputId": "f238c036-6d5d-4bdb-ebdd-60351d2470c7"
      },
      "execution_count": null,
      "outputs": [
        {
          "output_type": "display_data",
          "data": {
            "text/plain": [
              "<Figure size 432x288 with 1 Axes>"
            ],
            "image/png": "[encoded data removed]"
          },
          "metadata": {
            "needs_background": "light"
          }
        }
      ]
    },
    {
      "cell_type": "code",
      "source": [
        "x_predict = []\n",
        "y_label = []\n",
        "for _,(inputs,values) in enumerate(inferenceloader): # 무작위로 섞인 n_batch개의 데이터가 담긴 배치가 하나씩 들어온다.\n",
        "\n",
        "    outputs = model(inputs) # 모델에 입력값을 넣어 예측값을 산출한다.\n",
        "\n",
        "    x_predict.append([t.item() for t in outputs])\n",
        "    y_label.append([t.item() for t in values])"
      ],
      "metadata": {
        "id": "QyYNU_UIstAH"
      },
      "execution_count": null,
      "outputs": []
    },
    {
      "cell_type": "code",
      "source": [
        "plt.plot(np.array(x_predict).reshape(-1))\n",
        "plt.plot(np.array(y_label).reshape(-1))\n",
        "plt.xlabel('Time')\n",
        "plt.ylabel('Value')\n",
        "plt.title('Multi-Variate MLP timeseries-forecasting')\n",
        "plt.legend(['Predict_value', 'Real_value'])"
      ],
      "metadata": {
        "colab": {
          "base_uri": "https://localhost:8080/",
          "height": 313
        },
        "id": "ms14-MtGswEL",
        "outputId": "f3fc70ec-08f4-45fb-d364-2a120aa77855"
      },
      "execution_count": null,
      "outputs": [
        {
          "output_type": "execute_result",
          "data": {
            "text/plain": [
              "<matplotlib.legend.Legend at 0x7fa2ac4f55d0>"
            ]
          },
          "metadata": {},
          "execution_count": 324
        },
        {
          "output_type": "display_data",
          "data": {
            "text/plain": [
              "<Figure size 432x288 with 1 Axes>"
            ],
            "image/png": "[encoded data removed]"
          },
          "metadata": {
            "needs_background": "light"
          }
        }
      ]
    }
  ]
}